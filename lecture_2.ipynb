{
 "cells": [
  {
   "cell_type": "markdown",
   "metadata": {
    "vscode": {
     "languageId": "plaintext"
    }
   },
   "source": [
    "Conditional Statements ( if elif else)"
   ]
  },
  {
   "cell_type": "code",
   "execution_count": 4,
   "metadata": {},
   "outputs": [
    {
     "name": "stdout",
     "output_type": "stream",
     "text": [
      "Child\n"
     ]
    }
   ],
   "source": [
    "# IF ELSE Statements\n",
    "age=17\n",
    "if(age >= 18):\n",
    "    print(\"Younger\")\n",
    "else:\n",
    "    print(\"Child\")"
   ]
  },
  {
   "cell_type": "code",
   "execution_count": 14,
   "metadata": {},
   "outputs": [
    {
     "name": "stdout",
     "output_type": "stream",
     "text": [
      "Children\n"
     ]
    }
   ],
   "source": [
    "# IF ELIF Statements\n",
    "age=int(input(\"Enter Your Age :\"))\n",
    "if(age == 0):\n",
    "    print(\"Born Baby\")\n",
    "elif(age >= 18):\n",
    "    print(\"Younger\")\n",
    "else:\n",
    "    print(\"Children\")"
   ]
  },
  {
   "cell_type": "code",
   "execution_count": 15,
   "metadata": {},
   "outputs": [
    {
     "name": "stdout",
     "output_type": "stream",
     "text": [
      "Cannot Drive, You Are Very Old\n"
     ]
    }
   ],
   "source": [
    "\n",
    "# NEsted If  Statements\n",
    "age=int(input(\"Enter age :\"))\n",
    "if(age >= 18):\n",
    "    if(age >=80):\n",
    "        print(\"Cannot Drive, You Are Very Old\")\n",
    "    else:\n",
    "        print(\"Can Drive, You are Younger\")\n",
    "else:\n",
    "    print(\"Cannot Drive, You are Children..\")"
   ]
  },
  {
   "cell_type": "markdown",
   "metadata": {},
   "source": [
    "Lamda Function"
   ]
  },
  {
   "cell_type": "code",
   "execution_count": 18,
   "metadata": {},
   "outputs": [
    {
     "name": "stdout",
     "output_type": "stream",
     "text": [
      "10\n"
     ]
    }
   ],
   "source": [
    "# Without using lamda function\n",
    "def double(x):\n",
    "    return x*2\n",
    "\n",
    "print(double(5))"
   ]
  },
  {
   "cell_type": "code",
   "execution_count": 31,
   "metadata": {},
   "outputs": [
    {
     "name": "stdout",
     "output_type": "stream",
     "text": [
      "20\n",
      "125\n",
      "20.0\n",
      "14\n"
     ]
    }
   ],
   "source": [
    "# With Using Lamda function\n",
    "multy=lambda x: x*2\n",
    "print(multy(10))\n",
    "\n",
    "cube=lambda x: x**3\n",
    "print(cube(5))\n",
    "\n",
    "avg=lambda x,y: (x+y)/2\n",
    "print(avg(10,30))\n",
    "\n",
    "def apple(fx, value):\n",
    "    return 6 + fx(value)\n",
    "print(apple(cube, 2))"
   ]
  },
  {
   "cell_type": "markdown",
   "metadata": {},
   "source": [
    "Map, Filter & Reduce"
   ]
  },
  {
   "cell_type": "code",
   "execution_count": 40,
   "metadata": {},
   "outputs": [
    {
     "name": "stdout",
     "output_type": "stream",
     "text": [
      "125\n",
      "[1, 8, 27, 64, 125, 216, 343, 512, 729, 1000]\n",
      "[2, 4, 6, 8, 10]\n"
     ]
    }
   ],
   "source": [
    "def cube(x):\n",
    "    return x**3\n",
    "print(cube(5))\n",
    "# Map Function\n",
    "\n",
    "numbers=[1,2,3,4,5,6,7,8,9,10]\n",
    "\n",
    "# new_numbers=[]\n",
    "# for i in numbers:\n",
    "#     new_numbers.append(cube(i))\n",
    "# print(new_numbers)\n",
    "\n",
    "new_numbers=list(map(cube,numbers))\n",
    "print(new_numbers)\n",
    "\n",
    "\n",
    "# FILTER Function\n",
    "numbers = [1, 2, 3, 4, 5, 6, 7, 8, 9, 10]\n",
    "even_numbers = list(filter(lambda x: x % 2 == 0, numbers))\n",
    "\n",
    "print(even_numbers)"
   ]
  },
  {
   "cell_type": "code",
   "execution_count": 3,
   "metadata": {},
   "outputs": [
    {
     "name": "stdout",
     "output_type": "stream",
     "text": [
      "0\n",
      "1\n",
      "4\n",
      "9\n",
      "16\n"
     ]
    }
   ],
   "source": [
    "for i in range(0, 5):\n",
    "    print(i*i)"
   ]
  },
  {
   "cell_type": "code",
   "execution_count": 4,
   "metadata": {},
   "outputs": [
    {
     "name": "stdout",
     "output_type": "stream",
     "text": [
      "1990 is not a leap year.\n"
     ]
    }
   ],
   "source": [
    "def is_leap(year):\n",
    "    leap = False\n",
    "    \n",
    "    if year % 4 == 0:\n",
    "        if year % 100 == 0:\n",
    "            if year % 400 == 0:\n",
    "                leap = True\n",
    "            else:\n",
    "                leap = False\n",
    "        else:\n",
    "            leap = True\n",
    "    else:\n",
    "        leap = False\n",
    "    \n",
    "    return leap\n",
    "\n",
    "year = int(input(\"Enter a year: \"))\n",
    "if is_leap(year):\n",
    "    print(year, \"is a leap year.\")\n",
    "else:\n",
    "    print(year, \"is not a leap year.\")"
   ]
  },
  {
   "cell_type": "code",
   "execution_count": null,
   "metadata": {},
   "outputs": [],
   "source": []
  }
 ],
 "metadata": {
  "kernelspec": {
   "display_name": "base",
   "language": "python",
   "name": "python3"
  },
  "language_info": {
   "codemirror_mode": {
    "name": "ipython",
    "version": 3
   },
   "file_extension": ".py",
   "mimetype": "text/x-python",
   "name": "python",
   "nbconvert_exporter": "python",
   "pygments_lexer": "ipython3",
   "version": "3.12.4"
  }
 },
 "nbformat": 4,
 "nbformat_minor": 2
}
