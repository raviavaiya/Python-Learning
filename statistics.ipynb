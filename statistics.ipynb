{
 "cells": [
  {
   "cell_type": "markdown",
   "metadata": {},
   "source": [
    "**Statistics**\n",
    "-\n",
    "-----------------------------------------------------------------------------------------------------------------------------------------------------------------------------------------------------------------------------------------------------------------------------------------------------------------------------------------------------------------------------------------------------------------------------------------------------------------------------------"
   ]
  },
  {
   "cell_type": "code",
   "execution_count": 285,
   "metadata": {},
   "outputs": [],
   "source": [
    "from scipy.stats import ttest_1samp"
   ]
  },
  {
   "cell_type": "markdown",
   "metadata": {},
   "source": [
    "One Sample\n",
    "-"
   ]
  },
  {
   "cell_type": "code",
   "execution_count": 286,
   "metadata": {},
   "outputs": [],
   "source": [
    "sample_scores = [4.2, 3.8, 3.5, 4.0, 4.5, 3.3, 4.2, 4.1, 3.9, 4.3, \n",
    "                 3.7, 4.0, 4.2, 3.8, 3.6, 4.1, 3.9, 4.4, 4.0, 4.2, \n",
    "                 3.7, 3.9, 4.0, 4.1, 4.3, 3.6, 3.9, 4.0, 4.2, 4.2, \n",
    "                 3.8, 3.5, 4.0, 4.5, 3.3, 4.2, 4.1, 3.9, 4.3, 3.7, \n",
    "                 4.0, 4.2, 3.8, 3.6, 4.1, 3.9, 4.4, 4.0, 4.2, 3.7, \n",
    "                 3.9, 4.0, 4.1, 4.3, 3.6, 3.9, 4.0, 4.2]"
   ]
  },
  {
   "cell_type": "code",
   "execution_count": 287,
   "metadata": {},
   "outputs": [],
   "source": [
    "mean=3"
   ]
  },
  {
   "cell_type": "markdown",
   "metadata": {},
   "source": [
    "ttest_1samp - Function\n",
    "-\n",
    "\n",
    "Returns t -statistic and p-value for one-sample t-test.\n",
    "\n"
   ]
  },
  {
   "cell_type": "code",
   "execution_count": 288,
   "metadata": {},
   "outputs": [
    {
     "name": "stdout",
     "output_type": "stream",
     "text": [
      "t :  27.0438538051636\n",
      "p_value :  3.3377047399340263e-34\n"
     ]
    }
   ],
   "source": [
    "t, p_value = ttest_1samp(sample_scores,mean)\n",
    "print(\"t : \",t)\n",
    "print(\"p_value : \",p_value)"
   ]
  },
  {
   "cell_type": "markdown",
   "metadata": {},
   "source": [
    "Two sample Test\n",
    "-"
   ]
  },
  {
   "cell_type": "code",
   "execution_count": 289,
   "metadata": {},
   "outputs": [],
   "source": [
    "a=[85,88,92,78,90]\n",
    "b=[91,89,82,87,88]"
   ]
  },
  {
   "cell_type": "code",
   "execution_count": 290,
   "metadata": {},
   "outputs": [],
   "source": [
    "from scipy.stats import ttest_ind"
   ]
  },
  {
   "cell_type": "code",
   "execution_count": 291,
   "metadata": {},
   "outputs": [
    {
     "name": "stdout",
     "output_type": "stream",
     "text": [
      "t :  -0.2790320425660663\n",
      "P_value :  0.7872977318566334\n"
     ]
    }
   ],
   "source": [
    "t, P_value = ttest_ind(a,b)\n",
    "print(\"t : \",t)\n",
    "print(\"P_value : \",P_value)"
   ]
  },
  {
   "cell_type": "markdown",
   "metadata": {},
   "source": [
    "Z - Test \n",
    "-"
   ]
  },
  {
   "cell_type": "code",
   "execution_count": 292,
   "metadata": {},
   "outputs": [],
   "source": [
    "import random\n",
    "\n",
    "# Generate sample weight loss data (in pounds)\n",
    "\n",
    "random.seed(42)  # For reproducibility\n",
    "\n",
    "weight_loss_data = [random.uniform(0.5, 10) for _ in range(100)]"
   ]
  },
  {
   "cell_type": "code",
   "execution_count": 293,
   "metadata": {},
   "outputs": [
    {
     "data": {
      "text/plain": [
       "[6.574554585349896,\n",
       " 0.7376021746153358,\n",
       " 3.112778524506633,\n",
       " 2.6205020124138163,\n",
       " 7.496476534558118,\n",
       " 6.9286451305176575,\n",
       " 8.975705893196032,\n",
       " 1.3259189099794535,\n",
       " 4.5082572870100694,\n",
       " 0.7830735846616683,\n",
       " 2.577060760634232,\n",
       " 5.300875236981943,\n",
       " 0.7520917119967044,\n",
       " 2.3889576815231606,\n",
       " 6.67390215890547,\n",
       " 5.6769440657305585,\n",
       " 2.594185909386619,\n",
       " 6.098023996821133,\n",
       " 8.189589338439353,\n",
       " 0.5617382169415797,\n",
       " 8.155282892411675,\n",
       " 7.132324252388155,\n",
       " 3.7323799069209227,\n",
       " 1.9770552482119248,\n",
       " 9.593524185964421,\n",
       " 3.6976481785699544,\n",
       " 1.3810855121114052,\n",
       " 1.4188055799179082,\n",
       " 8.551196480300868,\n",
       " 6.2353972979854655,\n",
       " 8.167718596106612,\n",
       " 7.43245197359127,\n",
       " 5.594166868819657,\n",
       " 9.744599757804021,\n",
       " 4.096076583479358,\n",
       " 5.744385997095656,\n",
       " 8.37934431040345,\n",
       " 6.375937647460337,\n",
       " 8.686215552952383,\n",
       " 5.984845379939239,\n",
       " 7.193432444041773,\n",
       " 0.935331644728791,\n",
       " 2.6650336186896952,\n",
       " 3.249185654220018,\n",
       " 1.2580237807744612,\n",
       " 2.7115134204297866,\n",
       " 1.4595135793924265,\n",
       " 3.140749229545875,\n",
       " 6.539002220511802,\n",
       " 3.9659057002158002,\n",
       " 4.016719187610385,\n",
       " 2.490316792329133,\n",
       " 3.036289309466577,\n",
       " 9.398218583268694,\n",
       " 6.656336159842638,\n",
       " 6.286744553836388,\n",
       " 2.1258171578819214,\n",
       " 7.426704580528317,\n",
       " 2.0523236907383198,\n",
       " 4.104826696697653,\n",
       " 9.900471831047655,\n",
       " 6.579997718613882,\n",
       " 5.791022565859139,\n",
       " 7.003835384403809,\n",
       " 8.507093241803192,\n",
       " 7.8719991596893255,\n",
       " 2.6759566836589914,\n",
       " 0.8049523170883588,\n",
       " 3.496803956561278,\n",
       " 3.043538321769176,\n",
       " 2.5043370140701016,\n",
       " 9.457642286183017,\n",
       " 8.825492451490355,\n",
       " 3.4894398675855403,\n",
       " 6.7266673203013605,\n",
       " 4.25850306007631,\n",
       " 9.188202102535163,\n",
       " 4.859092599580289,\n",
       " 3.0163615817314984,\n",
       " 2.842961323092843,\n",
       " 5.832997274549933,\n",
       " 2.996045280967885,\n",
       " 6.053566907123635,\n",
       " 9.029317394223531,\n",
       " 4.294304798833775,\n",
       " 2.583547211994192,\n",
       " 9.976607261703547,\n",
       " 5.340499789926413,\n",
       " 1.363639415651042,\n",
       " 0.9476055665349784,\n",
       " 1.5416667383312619,\n",
       " 6.460737396179355,\n",
       " 8.024753961448159,\n",
       " 4.510519684596998,\n",
       " 1.1035132084435928,\n",
       " 4.125383221812099,\n",
       " 9.963153112280919,\n",
       " 5.526586278441802,\n",
       " 9.725244587329373,\n",
       " 8.677407171227731]"
      ]
     },
     "execution_count": 293,
     "metadata": {},
     "output_type": "execute_result"
    }
   ],
   "source": [
    "weight_loss_data"
   ]
  },
  {
   "cell_type": "markdown",
   "metadata": {},
   "source": [
    "2. Calculate the Test Statistic (Z-Score)\n",
    "\n",
    "Sample Mean (X̄): Calculate the sample mean of weight loss data.\n",
    "Population Standard Deviation (σ): Known as 2 pounds.\n",
    "Sample Size (n): 100 participants."
   ]
  },
  {
   "cell_type": "code",
   "execution_count": 294,
   "metadata": {},
   "outputs": [
    {
     "data": {
      "text/plain": [
       "(5.05590780970096, 2.8025373784562273, 18.04046521758078)"
      ]
     },
     "execution_count": 294,
     "metadata": {},
     "output_type": "execute_result"
    }
   ],
   "source": [
    "import numpy as np\n",
    "\n",
    "# Calculate sample mean and sample standard deviation\n",
    "\n",
    "sample_mean = np.mean(weight_loss_data)\n",
    "sample_std = np.std(weight_loss_data, ddof=1)  # Use Bessel's correction for sample std\n",
    "\n",
    "# Calculate Z-score\n",
    "\n",
    "population_mean = 0  # Hypothesized population mean\n",
    "z_score = (sample_mean - population_mean) / (sample_std / np.sqrt(len(weight_loss_data)))\n",
    "\n",
    "sample_mean, sample_std, z_score"
   ]
  },
  {
   "cell_type": "markdown",
   "metadata": {},
   "source": [
    "3. Determine the Critical Value\n",
    "\n",
    "Significance Level (α): Typically, 0.05 (corresponding to 95% confidence level).\n",
    "Degrees of Freedom (df): n – 1 (99 degrees of freedom for this example)."
   ]
  },
  {
   "cell_type": "code",
   "execution_count": 295,
   "metadata": {},
   "outputs": [
    {
     "data": {
      "text/plain": [
       "1.6448536269514722"
      ]
     },
     "execution_count": 295,
     "metadata": {},
     "output_type": "execute_result"
    }
   ],
   "source": [
    "from scipy.stats import norm\n",
    "\n",
    "alpha = 0.05\n",
    "\n",
    "df = len(weight_loss_data) - 1\n",
    "\n",
    "# Calculate the critical Z-value\n",
    "\n",
    "critical_value = norm.ppf(1 - alpha)\n",
    "\n",
    "critical_value"
   ]
  },
  {
   "cell_type": "code",
   "execution_count": 296,
   "metadata": {},
   "outputs": [
    {
     "data": {
      "text/plain": [
       "(1.6448536269514722, 18.04046521758078)"
      ]
     },
     "execution_count": 296,
     "metadata": {},
     "output_type": "execute_result"
    }
   ],
   "source": [
    "critical_value , z_score"
   ]
  },
  {
   "cell_type": "markdown",
   "metadata": {},
   "source": [
    " Make a Decision\n",
    "\n",
    "Compare the calculated Z-score with the critical value.\n",
    "\n",
    "If Z-Score > Critical Value, reject the null hypothesis (Ha).\n",
    "If Z-Score ≤ Critical Value, fail to reject the null hypothesis (H0)."
   ]
  },
  {
   "cell_type": "code",
   "execution_count": 297,
   "metadata": {},
   "outputs": [
    {
     "name": "stdout",
     "output_type": "stream",
     "text": [
      "Reject the null hypothesis\n"
     ]
    }
   ],
   "source": [
    "if(z_score > critical_value):\n",
    "    print(\"Reject the null hypothesis\")\n",
    "else:\n",
    "    print(\"Fail to reject the null hypothesis\")"
   ]
  },
  {
   "cell_type": "markdown",
   "metadata": {},
   "source": [
    "CHI - SQUARE TEST\n",
    "-"
   ]
  },
  {
   "cell_type": "markdown",
   "metadata": {},
   "source": [
    "Chi-Square Test for Independence:\n",
    "\n",
    "Chi-Square Test: The chi-square test is a statistical test used to assess the independence (or association) between two categorical variables. It helps determine whether there is a significant relationship between the variables or if they are independent.\n",
    "\n",
    "Independence: In the context of the chi-square test, independence means that the two categorical variables are not related, and changes in one variable do not affect the distribution of the other variable."
   ]
  },
  {
   "cell_type": "markdown",
   "metadata": {},
   "source": [
    "Using Python (Mathematically)\n"
   ]
  },
  {
   "cell_type": "code",
   "execution_count": 298,
   "metadata": {},
   "outputs": [],
   "source": [
    "import pandas as pd\n",
    "import random\n",
    "from scipy.stats import chi2_contingency\n",
    "\n",
    "# Generate random data for 200 voters\n",
    "random.seed(42)  # For reproducibility\n",
    "\n",
    "# Generate random gender data\n",
    "gender = random.choices(['Male', 'Female'], k=200)\n",
    "\n",
    "# Generate random voting preferences data\n",
    "voting_preferences = random.choices(['Candidate A', 'Candidate B', 'Undecided'], k=200)\n",
    "\n",
    "# Create a dataframe from the data\n",
    "data = {\n",
    "    'Gender': gender,\n",
    "    'Voting_Preferences': voting_preferences\n",
    "}\n",
    "df = pd.DataFrame(data)"
   ]
  },
  {
   "cell_type": "markdown",
   "metadata": {},
   "source": [
    "1. Hypotheses\n",
    "\n",
    "You want to test whether there is a significant association between the gender of voters and their voting preferences.\n",
    "\n",
    "Null Hypothesis (H0): Gender and voting preferences are independent.\n",
    "Alternative Hypothesis (Ha): Gender and voting preferences are not independent; there is an association."
   ]
  },
  {
   "cell_type": "markdown",
   "metadata": {},
   "source": [
    "2. Create a Contingency Table\n",
    "\n",
    "Create a contingency table that cross-tabulates the two categorical variables (gender and voting preferences):"
   ]
  },
  {
   "cell_type": "code",
   "execution_count": 299,
   "metadata": {},
   "outputs": [
    {
     "data": {
      "text/html": [
       "<div>\n",
       "<style scoped>\n",
       "    .dataframe tbody tr th:only-of-type {\n",
       "        vertical-align: middle;\n",
       "    }\n",
       "\n",
       "    .dataframe tbody tr th {\n",
       "        vertical-align: top;\n",
       "    }\n",
       "\n",
       "    .dataframe thead th {\n",
       "        text-align: right;\n",
       "    }\n",
       "</style>\n",
       "<table border=\"1\" class=\"dataframe\">\n",
       "  <thead>\n",
       "    <tr style=\"text-align: right;\">\n",
       "      <th>Voting_Preferences</th>\n",
       "      <th>Candidate A</th>\n",
       "      <th>Candidate B</th>\n",
       "      <th>Undecided</th>\n",
       "    </tr>\n",
       "    <tr>\n",
       "      <th>Gender</th>\n",
       "      <th></th>\n",
       "      <th></th>\n",
       "      <th></th>\n",
       "    </tr>\n",
       "  </thead>\n",
       "  <tbody>\n",
       "    <tr>\n",
       "      <th>Female</th>\n",
       "      <td>31</td>\n",
       "      <td>26</td>\n",
       "      <td>40</td>\n",
       "    </tr>\n",
       "    <tr>\n",
       "      <th>Male</th>\n",
       "      <td>40</td>\n",
       "      <td>29</td>\n",
       "      <td>34</td>\n",
       "    </tr>\n",
       "  </tbody>\n",
       "</table>\n",
       "</div>"
      ],
      "text/plain": [
       "Voting_Preferences  Candidate A  Candidate B  Undecided\n",
       "Gender                                                 \n",
       "Female                       31           26         40\n",
       "Male                         40           29         34"
      ]
     },
     "execution_count": 299,
     "metadata": {},
     "output_type": "execute_result"
    }
   ],
   "source": [
    "contingency_table = pd.crosstab(df['Gender'], df['Voting_Preferences'])\n",
    "\n",
    "contingency_table"
   ]
  },
  {
   "cell_type": "markdown",
   "metadata": {},
   "source": [
    "3. Calculate the Chi-Square Statistic\n",
    "\n",
    "Calculate the chi-square statistic, which measures the discrepancy between observed and expected frequencies."
   ]
  },
  {
   "cell_type": "code",
   "execution_count": 300,
   "metadata": {},
   "outputs": [
    {
     "data": {
      "text/plain": [
       "(1.6124190977333461,\n",
       " 0.4465474787793734,\n",
       " 2,\n",
       " array([[34.435, 26.675, 35.89 ],\n",
       "        [36.565, 28.325, 38.11 ]]))"
      ]
     },
     "execution_count": 300,
     "metadata": {},
     "output_type": "execute_result"
    }
   ],
   "source": [
    "from scipy.stats import chi2_contingency\n",
    "\n",
    "# Calculate chi-square statistic, p-value, degrees of freedom, and expected frequencies\n",
    "chi2, p, dof, expected = chi2_contingency(contingency_table)\n",
    "chi2, p, dof, expected"
   ]
  },
  {
   "cell_type": "markdown",
   "metadata": {},
   "source": [
    "Chi-Square Statistic (χ²): Approximately 0.1463\n",
    "\n",
    "P-Value (p): Calculated based on data\n",
    "\n",
    "Degrees of Freedom (df): 2\n",
    "\n",
    "Expected Frequencies: Calculated values based on the data"
   ]
  },
  {
   "cell_type": "markdown",
   "metadata": {},
   "source": [
    "4. Determine the Critical Value\n",
    "\n",
    "Specify the desired level of significance (α) to determine the critical chi-square value. Let’s assume α = 0.05."
   ]
  },
  {
   "cell_type": "code",
   "execution_count": 301,
   "metadata": {},
   "outputs": [
    {
     "data": {
      "text/plain": [
       "5.991464547107979"
      ]
     },
     "execution_count": 301,
     "metadata": {},
     "output_type": "execute_result"
    }
   ],
   "source": [
    "from scipy.stats import chi2\n",
    "\n",
    "alpha = 0.05\n",
    "\n",
    "critical_value = chi2.ppf(1 - alpha, dof)\n",
    "\n",
    "critical_value"
   ]
  },
  {
   "cell_type": "markdown",
   "metadata": {},
   "source": [
    "Critical Value (χ²_critical): Approximately 5.991 (for α = 0.05 and df = 2)"
   ]
  },
  {
   "cell_type": "markdown",
   "metadata": {},
   "source": [
    "5. Make a Decision\n",
    "\n",
    "Compare the calculated chi-square statistic with the critical value.\n",
    "\n",
    "If χ² > χ²_critical, reject the null hypothesis.\n",
    "\n",
    "If χ² ≤ χ²_critical, fail to reject the null hypothesis."
   ]
  },
  {
   "cell_type": "code",
   "execution_count": 303,
   "metadata": {},
   "outputs": [
    {
     "data": {
      "text/plain": [
       "(<scipy.stats._continuous_distns.chi2_gen at 0x255efc98e90>, 5.991464547107979)"
      ]
     },
     "execution_count": 303,
     "metadata": {},
     "output_type": "execute_result"
    }
   ],
   "source": [
    "# Make a decision\n",
    "chi2,critical_value\n"
   ]
  },
  {
   "cell_type": "code",
   "execution_count": null,
   "metadata": {},
   "outputs": [],
   "source": [
    "# Make a decision\n",
    "\n",
    "reject_null = chi2 > critical_value\n",
    "\n",
    "reject_null"
   ]
  },
  {
   "cell_type": "markdown",
   "metadata": {},
   "source": [
    "ANOVA\n",
    "-"
   ]
  },
  {
   "cell_type": "code",
   "execution_count": 306,
   "metadata": {},
   "outputs": [
    {
     "name": "stdout",
     "output_type": "stream",
     "text": [
      "F-statistic: 8.483221476510069\n",
      "P-value: 0.005054945419651569\n",
      "Reject the null hypothesis: \n",
      "There are significant differences in test scores among the three schools.\n"
     ]
    }
   ],
   "source": [
    "import numpy as np\n",
    "from scipy.stats import f\n",
    "\n",
    "# Given data\n",
    "school_1 = np.array([85, 88, 90, 92, 86])\n",
    "school_2 = np.array([78, 82, 80, 85, 88])\n",
    "school_3 = np.array([92, 94, 89, 88, 90])\n",
    "\n",
    "# Step 1: Calculate Grand Mean\n",
    "all_scores = np.concatenate([school_1, school_2, school_3])\n",
    "grand_mean = np.mean(all_scores)\n",
    "\n",
    "# Step 2: Calculate SST\n",
    "sst = np.sum((all_scores - grand_mean)**2)\n",
    "\n",
    "# Step 3: Calculate SSB\n",
    "ssb = np.sum([len(school) * (np.mean(school) - grand_mean)**2 for school in [school_1, school_2, school_3]])\n",
    "\n",
    "# Step 4: Calculate SSW\n",
    "ssw = np.sum([(score - np.mean(school))**2 for school, scores in zip([school_1, school_2, school_3], [school_1, school_2, school_3]) for score in scores])\n",
    "\n",
    "# Step 5: Degrees of Freedom\n",
    "df_between = 3 - 1\n",
    "df_within = len(all_scores) - 3\n",
    "\n",
    "# Step 6: Calculate Mean Squares\n",
    "msb = ssb / df_between\n",
    "msw = ssw / df_within\n",
    "\n",
    "# Step 7: Calculate F-statistic\n",
    "f_statistic = msb / msw\n",
    "\n",
    "# Step 8: Compare with Critical Value or P-value\n",
    "p_value = 1 - f.cdf(f_statistic, df_between, df_within)\n",
    "\n",
    "# Print results\n",
    "print(f\"F-statistic: {f_statistic}\")\n",
    "print(f\"P-value: {p_value}\")\n",
    "\n",
    "alpha = 0.05\n",
    "if p_value < alpha:\n",
    "    print(\"Reject the null hypothesis: \\nThere are significant differences in test scores among the three schools.\")\n",
    "else:\n",
    "    print(\"Fail to reject the null hypothesis: \\nThere are no significant differences in test scores among the three schools.\")"
   ]
  },
  {
   "cell_type": "markdown",
   "metadata": {},
   "source": [
    "Using Python Libraries\n",
    "\n",
    "Perform the One-Way ANOVA\n",
    "We’ll use the scipy.stats library to perform the one-way ANOVA."
   ]
  },
  {
   "cell_type": "code",
   "execution_count": 307,
   "metadata": {},
   "outputs": [
    {
     "ename": "KeyError",
     "evalue": "'School'",
     "output_type": "error",
     "traceback": [
      "\u001b[1;31m---------------------------------------------------------------------------\u001b[0m",
      "\u001b[1;31mKeyError\u001b[0m                                  Traceback (most recent call last)",
      "File \u001b[1;32mc:\\Users\\ravia\\anaconda3\\Lib\\site-packages\\pandas\\core\\indexes\\base.py:3805\u001b[0m, in \u001b[0;36mIndex.get_loc\u001b[1;34m(self, key)\u001b[0m\n\u001b[0;32m   3804\u001b[0m \u001b[38;5;28;01mtry\u001b[39;00m:\n\u001b[1;32m-> 3805\u001b[0m     \u001b[38;5;28;01mreturn\u001b[39;00m \u001b[38;5;28;43mself\u001b[39;49m\u001b[38;5;241;43m.\u001b[39;49m\u001b[43m_engine\u001b[49m\u001b[38;5;241;43m.\u001b[39;49m\u001b[43mget_loc\u001b[49m\u001b[43m(\u001b[49m\u001b[43mcasted_key\u001b[49m\u001b[43m)\u001b[49m\n\u001b[0;32m   3806\u001b[0m \u001b[38;5;28;01mexcept\u001b[39;00m \u001b[38;5;167;01mKeyError\u001b[39;00m \u001b[38;5;28;01mas\u001b[39;00m err:\n",
      "File \u001b[1;32mindex.pyx:167\u001b[0m, in \u001b[0;36mpandas._libs.index.IndexEngine.get_loc\u001b[1;34m()\u001b[0m\n",
      "File \u001b[1;32mindex.pyx:196\u001b[0m, in \u001b[0;36mpandas._libs.index.IndexEngine.get_loc\u001b[1;34m()\u001b[0m\n",
      "File \u001b[1;32mpandas\\\\_libs\\\\hashtable_class_helper.pxi:7081\u001b[0m, in \u001b[0;36mpandas._libs.hashtable.PyObjectHashTable.get_item\u001b[1;34m()\u001b[0m\n",
      "File \u001b[1;32mpandas\\\\_libs\\\\hashtable_class_helper.pxi:7089\u001b[0m, in \u001b[0;36mpandas._libs.hashtable.PyObjectHashTable.get_item\u001b[1;34m()\u001b[0m\n",
      "\u001b[1;31mKeyError\u001b[0m: 'School'",
      "\nThe above exception was the direct cause of the following exception:\n",
      "\u001b[1;31mKeyError\u001b[0m                                  Traceback (most recent call last)",
      "Cell \u001b[1;32mIn[307], line 4\u001b[0m\n\u001b[0;32m      1\u001b[0m \u001b[38;5;28;01mfrom\u001b[39;00m \u001b[38;5;21;01mscipy\u001b[39;00m\u001b[38;5;21;01m.\u001b[39;00m\u001b[38;5;21;01mstats\u001b[39;00m \u001b[38;5;28;01mimport\u001b[39;00m f_oneway\n\u001b[0;32m      3\u001b[0m \u001b[38;5;66;03m# Group the data by school\u001b[39;00m\n\u001b[1;32m----> 4\u001b[0m groups \u001b[38;5;241m=\u001b[39m [df[\u001b[38;5;124m'\u001b[39m\u001b[38;5;124mTest_Score\u001b[39m\u001b[38;5;124m'\u001b[39m][df[\u001b[38;5;124m'\u001b[39m\u001b[38;5;124mSchool\u001b[39m\u001b[38;5;124m'\u001b[39m] \u001b[38;5;241m==\u001b[39m school] \u001b[38;5;28;01mfor\u001b[39;00m school \u001b[38;5;129;01min\u001b[39;00m \u001b[43mdf\u001b[49m\u001b[43m[\u001b[49m\u001b[38;5;124;43m'\u001b[39;49m\u001b[38;5;124;43mSchool\u001b[39;49m\u001b[38;5;124;43m'\u001b[39;49m\u001b[43m]\u001b[49m\u001b[38;5;241m.\u001b[39munique()]\n\u001b[0;32m      6\u001b[0m \u001b[38;5;66;03m# Perform one-way ANOVA\u001b[39;00m\n\u001b[0;32m      7\u001b[0m f_statistic, p_value \u001b[38;5;241m=\u001b[39m f_oneway(\u001b[38;5;241m*\u001b[39mgroups)\n",
      "File \u001b[1;32mc:\\Users\\ravia\\anaconda3\\Lib\\site-packages\\pandas\\core\\frame.py:4102\u001b[0m, in \u001b[0;36mDataFrame.__getitem__\u001b[1;34m(self, key)\u001b[0m\n\u001b[0;32m   4100\u001b[0m \u001b[38;5;28;01mif\u001b[39;00m \u001b[38;5;28mself\u001b[39m\u001b[38;5;241m.\u001b[39mcolumns\u001b[38;5;241m.\u001b[39mnlevels \u001b[38;5;241m>\u001b[39m \u001b[38;5;241m1\u001b[39m:\n\u001b[0;32m   4101\u001b[0m     \u001b[38;5;28;01mreturn\u001b[39;00m \u001b[38;5;28mself\u001b[39m\u001b[38;5;241m.\u001b[39m_getitem_multilevel(key)\n\u001b[1;32m-> 4102\u001b[0m indexer \u001b[38;5;241m=\u001b[39m \u001b[38;5;28;43mself\u001b[39;49m\u001b[38;5;241;43m.\u001b[39;49m\u001b[43mcolumns\u001b[49m\u001b[38;5;241;43m.\u001b[39;49m\u001b[43mget_loc\u001b[49m\u001b[43m(\u001b[49m\u001b[43mkey\u001b[49m\u001b[43m)\u001b[49m\n\u001b[0;32m   4103\u001b[0m \u001b[38;5;28;01mif\u001b[39;00m is_integer(indexer):\n\u001b[0;32m   4104\u001b[0m     indexer \u001b[38;5;241m=\u001b[39m [indexer]\n",
      "File \u001b[1;32mc:\\Users\\ravia\\anaconda3\\Lib\\site-packages\\pandas\\core\\indexes\\base.py:3812\u001b[0m, in \u001b[0;36mIndex.get_loc\u001b[1;34m(self, key)\u001b[0m\n\u001b[0;32m   3807\u001b[0m     \u001b[38;5;28;01mif\u001b[39;00m \u001b[38;5;28misinstance\u001b[39m(casted_key, \u001b[38;5;28mslice\u001b[39m) \u001b[38;5;129;01mor\u001b[39;00m (\n\u001b[0;32m   3808\u001b[0m         \u001b[38;5;28misinstance\u001b[39m(casted_key, abc\u001b[38;5;241m.\u001b[39mIterable)\n\u001b[0;32m   3809\u001b[0m         \u001b[38;5;129;01mand\u001b[39;00m \u001b[38;5;28many\u001b[39m(\u001b[38;5;28misinstance\u001b[39m(x, \u001b[38;5;28mslice\u001b[39m) \u001b[38;5;28;01mfor\u001b[39;00m x \u001b[38;5;129;01min\u001b[39;00m casted_key)\n\u001b[0;32m   3810\u001b[0m     ):\n\u001b[0;32m   3811\u001b[0m         \u001b[38;5;28;01mraise\u001b[39;00m InvalidIndexError(key)\n\u001b[1;32m-> 3812\u001b[0m     \u001b[38;5;28;01mraise\u001b[39;00m \u001b[38;5;167;01mKeyError\u001b[39;00m(key) \u001b[38;5;28;01mfrom\u001b[39;00m \u001b[38;5;21;01merr\u001b[39;00m\n\u001b[0;32m   3813\u001b[0m \u001b[38;5;28;01mexcept\u001b[39;00m \u001b[38;5;167;01mTypeError\u001b[39;00m:\n\u001b[0;32m   3814\u001b[0m     \u001b[38;5;66;03m# If we have a listlike key, _check_indexing_error will raise\u001b[39;00m\n\u001b[0;32m   3815\u001b[0m     \u001b[38;5;66;03m#  InvalidIndexError. Otherwise we fall through and re-raise\u001b[39;00m\n\u001b[0;32m   3816\u001b[0m     \u001b[38;5;66;03m#  the TypeError.\u001b[39;00m\n\u001b[0;32m   3817\u001b[0m     \u001b[38;5;28mself\u001b[39m\u001b[38;5;241m.\u001b[39m_check_indexing_error(key)\n",
      "\u001b[1;31mKeyError\u001b[0m: 'School'"
     ]
    }
   ],
   "source": [
    "from scipy.stats import f_oneway\n",
    "\n",
    "# Group the data by school\n",
    "groups = [df['Test_Score'][df['School'] == school] for school in df['School'].unique()]\n",
    "\n",
    "# Perform one-way ANOVA\n",
    "f_statistic, p_value = f_oneway(*groups)\n",
    "f_statistic, p_value"
   ]
  },
  {
   "cell_type": "code",
   "execution_count": 308,
   "metadata": {},
   "outputs": [
    {
     "data": {
      "text/plain": [
       "True"
      ]
     },
     "execution_count": 308,
     "metadata": {},
     "output_type": "execute_result"
    }
   ],
   "source": [
    "alpha = 0.05  # Significance level\n",
    "\n",
    "critical_value = 3.8853  # Critical F-value for α = 0.05 and df = (2, 12)\n",
    "\n",
    "# Make a decision\n",
    "\n",
    "reject_null = f_statistic > critical_value\n",
    "reject_null"
   ]
  },
  {
   "cell_type": "code",
   "execution_count": 309,
   "metadata": {},
   "outputs": [
    {
     "name": "stdout",
     "output_type": "stream",
     "text": [
      "One-Way ANOVA Statistic: 8.483221476510069\n",
      "P-value: 0.00505494541965152\n",
      "\n",
      "Reject the null hypothesis: There are significant differences in test scores among the three schools.\n"
     ]
    }
   ],
   "source": [
    "import scipy.stats as stats\n",
    "import numpy as np\n",
    "\n",
    "# Data: Test scores for three schools\n",
    "school_1 = np.array([85, 88, 90, 92, 86])\n",
    "school_2 = np.array([78, 82, 80, 85, 88])\n",
    "school_3 = np.array([92, 94, 89, 88, 90])\n",
    "\n",
    "# Perform one-way ANOVA\n",
    "statistic, p_value = stats.f_oneway(school_1, school_2, school_3)\n",
    "\n",
    "# Print results\n",
    "print(f\"One-Way ANOVA Statistic: {statistic}\")\n",
    "print(f\"P-value: {p_value}\")\n",
    "\n",
    "# Check significance at a 0.05 significance level\n",
    "alpha = 0.05\n",
    "if p_value < alpha:\n",
    "    print(\"\\nReject the null hypothesis: There are significant differences in test scores among the three schools.\")\n",
    "else:\n",
    "    print(\"\\nFail to reject the null hypothesis: There are no significant differences in test scores among the three schools.\")\n"
   ]
  },
  {
   "cell_type": "code",
   "execution_count": 312,
   "metadata": {},
   "outputs": [
    {
     "data": {
      "text/html": [
       "<div>\n",
       "<style scoped>\n",
       "    .dataframe tbody tr th:only-of-type {\n",
       "        vertical-align: middle;\n",
       "    }\n",
       "\n",
       "    .dataframe tbody tr th {\n",
       "        vertical-align: top;\n",
       "    }\n",
       "\n",
       "    .dataframe thead th {\n",
       "        text-align: right;\n",
       "    }\n",
       "</style>\n",
       "<table border=\"1\" class=\"dataframe\">\n",
       "  <thead>\n",
       "    <tr style=\"text-align: right;\">\n",
       "      <th></th>\n",
       "      <th>Gender</th>\n",
       "      <th>Voting_Preferences</th>\n",
       "    </tr>\n",
       "  </thead>\n",
       "  <tbody>\n",
       "    <tr>\n",
       "      <th>0</th>\n",
       "      <td>Female</td>\n",
       "      <td>Undecided</td>\n",
       "    </tr>\n",
       "    <tr>\n",
       "      <th>1</th>\n",
       "      <td>Male</td>\n",
       "      <td>Undecided</td>\n",
       "    </tr>\n",
       "    <tr>\n",
       "      <th>2</th>\n",
       "      <td>Male</td>\n",
       "      <td>Undecided</td>\n",
       "    </tr>\n",
       "    <tr>\n",
       "      <th>3</th>\n",
       "      <td>Male</td>\n",
       "      <td>Candidate A</td>\n",
       "    </tr>\n",
       "    <tr>\n",
       "      <th>4</th>\n",
       "      <td>Female</td>\n",
       "      <td>Candidate B</td>\n",
       "    </tr>\n",
       "    <tr>\n",
       "      <th>...</th>\n",
       "      <td>...</td>\n",
       "      <td>...</td>\n",
       "    </tr>\n",
       "    <tr>\n",
       "      <th>195</th>\n",
       "      <td>Female</td>\n",
       "      <td>Candidate A</td>\n",
       "    </tr>\n",
       "    <tr>\n",
       "      <th>196</th>\n",
       "      <td>Female</td>\n",
       "      <td>Candidate B</td>\n",
       "    </tr>\n",
       "    <tr>\n",
       "      <th>197</th>\n",
       "      <td>Male</td>\n",
       "      <td>Candidate B</td>\n",
       "    </tr>\n",
       "    <tr>\n",
       "      <th>198</th>\n",
       "      <td>Female</td>\n",
       "      <td>Candidate B</td>\n",
       "    </tr>\n",
       "    <tr>\n",
       "      <th>199</th>\n",
       "      <td>Female</td>\n",
       "      <td>Candidate B</td>\n",
       "    </tr>\n",
       "  </tbody>\n",
       "</table>\n",
       "<p>200 rows × 2 columns</p>\n",
       "</div>"
      ],
      "text/plain": [
       "     Gender Voting_Preferences\n",
       "0    Female          Undecided\n",
       "1      Male          Undecided\n",
       "2      Male          Undecided\n",
       "3      Male        Candidate A\n",
       "4    Female        Candidate B\n",
       "..      ...                ...\n",
       "195  Female        Candidate A\n",
       "196  Female        Candidate B\n",
       "197    Male        Candidate B\n",
       "198  Female        Candidate B\n",
       "199  Female        Candidate B\n",
       "\n",
       "[200 rows x 2 columns]"
      ]
     },
     "execution_count": 312,
     "metadata": {},
     "output_type": "execute_result"
    }
   ],
   "source": [
    "school_1 = [85, 88, 90, 92, 86]\n",
    "school_2 = [78, 82, 80, 85, 88]\n",
    "school_3 = [92, 94, 89, 88, 90]\n",
    "scoresdata = {    'School': ['school_1']*5 + ['school_2']*5 + ['school_3']*5,    'Test_Score': school_1 + school_2 + school_3}\n",
    "\n",
    "df = pd.DataFrame(data)\n",
    "df"
   ]
  },
  {
   "cell_type": "code",
   "execution_count": null,
   "metadata": {},
   "outputs": [],
   "source": []
  }
 ],
 "metadata": {
  "kernelspec": {
   "display_name": "base",
   "language": "python",
   "name": "python3"
  },
  "language_info": {
   "codemirror_mode": {
    "name": "ipython",
    "version": 3
   },
   "file_extension": ".py",
   "mimetype": "text/x-python",
   "name": "python",
   "nbconvert_exporter": "python",
   "pygments_lexer": "ipython3",
   "version": "3.12.4"
  }
 },
 "nbformat": 4,
 "nbformat_minor": 2
}
