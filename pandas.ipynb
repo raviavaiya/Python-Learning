{
  "cells": [
    {
      "cell_type": "markdown",
      "metadata": {
        "id": "7lQxFskbgijh"
      },
      "source": [
        "**What is Pandas?**\n",
        "\n",
        "\n",
        "Pandas is a Python library used for working with data sets.\n",
        "\n",
        "It has functions for analyzing, cleaning, exploring, and manipulating data.\n",
        "\n",
        "The name \"Pandas\" has a reference to both \"Panel Data\", and \"Python Data Analysis\" and was created by Wes McKinney in 2008."
      ]
    },
    {
      "cell_type": "code",
      "execution_count": null,
      "metadata": {
        "colab": {
          "base_uri": "https://localhost:8080/"
        },
        "id": "H6NyUvebgijm",
        "outputId": "11f3aa60-f7ac-47ce-96e8-f8e3ccce5801"
      },
      "outputs": [
        {
          "name": "stdout",
          "output_type": "stream",
          "text": [
            "    cars  passings\n",
            "0    BMW         3\n",
            "1  Volvo         7\n",
            "2   Ford         2\n"
          ]
        }
      ],
      "source": [
        "import pandas as pd\n",
        "\n",
        "mydataset = {\n",
        "  'cars': [\"BMW\", \"Volvo\", \"Ford\"],\n",
        "  'passings': [3, 7, 2]\n",
        "}\n",
        "\n",
        "myvar = pd.DataFrame(mydataset)\n",
        "\n",
        "print(myvar)"
      ]
    },
    {
      "cell_type": "code",
      "execution_count": null,
      "metadata": {
        "colab": {
          "base_uri": "https://localhost:8080/"
        },
        "id": "6FDWeh6RKxTE",
        "outputId": "aa04db58-1be7-46a2-f398-b0456fe6bc7f"
      },
      "outputs": [
        {
          "name": "stdout",
          "output_type": "stream",
          "text": [
            "     name  marks       city\n",
            "0   harry     92     rampur\n",
            "1   rohan     34    kolkata\n",
            "2  skillf     24  antartica\n"
          ]
        }
      ],
      "source": [
        "dict1 = {\n",
        "    'name': ['harry', 'rohan', 'skillf'],\n",
        "    'marks': [92, 34, 24],\n",
        "    'city': ['rampur', 'kolkata', 'antartica']\n",
        "}\n",
        "\n",
        "df = pd.DataFrame(dict1)\n",
        "print(df)\n"
      ]
    },
    {
      "cell_type": "markdown",
      "metadata": {
        "id": "z07jgRT4Lx1A"
      },
      "source": [
        "** Dataframe Converting into CSV **"
      ]
    },
    {
      "cell_type": "code",
      "execution_count": null,
      "metadata": {
        "id": "pXGn9RzzL_sR"
      },
      "outputs": [],
      "source": [
        "df.to_csv('first_csv_File.csv')"
      ]
    }
  ],
  "metadata": {
    "colab": {
      "provenance": []
    },
    "kernelspec": {
      "display_name": "Python 3",
      "name": "python3"
    },
    "language_info": {
      "name": "python",
      "version": "3.12.4"
    }
  },
  "nbformat": 4,
  "nbformat_minor": 0
}
