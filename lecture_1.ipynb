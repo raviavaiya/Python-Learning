{
 "cells": [
  {
   "cell_type": "markdown",
   "metadata": {},
   "source": [
    "How to print statements in python......"
   ]
  },
  {
   "cell_type": "code",
   "execution_count": null,
   "metadata": {},
   "outputs": [
    {
     "name": "stdout",
     "output_type": "stream",
     "text": [
      "Hello World\n",
      "This is my first python program....\n",
      "50\n",
      "25.99\n"
     ]
    }
   ],
   "source": [
    "print(\"Hello World\")\n",
    "print(\"This is my first python program...\")\n",
    "print(50)\n",
    "print(25.99)"
   ]
  },
  {
   "cell_type": "markdown",
   "metadata": {},
   "source": [
    " Variable :\n",
    " A Variable is a name given to a memory location in a program......"
   ]
  },
  {
   "cell_type": "code",
   "execution_count": 3,
   "metadata": {},
   "outputs": [
    {
     "name": "stdout",
     "output_type": "stream",
     "text": [
      "Ravi avaiya\n",
      "22\n",
      "99.99\n",
      "ravi avaiya\n",
      "my name is :  Ravi avaiya And my age is : 22\n"
     ]
    }
   ],
   "source": [
    "name=\"Ravi avaiya\"\n",
    "age=22\n",
    "price=99.99\n",
    "old=False\n",
    "a = None\n",
    "school='ravi avaiya'\n",
    "\n",
    "print(name)\n",
    "print(age)\n",
    "print(price)\n",
    "\n",
    "print(school)\n",
    "\n",
    "print(\"my name is : \",name,\"And my age is :\",age)\n"
   ]
  },
  {
   "cell_type": "markdown",
   "metadata": {},
   "source": [
    "How to know Datatypes of Variable"
   ]
  },
  {
   "cell_type": "code",
   "execution_count": 4,
   "metadata": {},
   "outputs": [
    {
     "name": "stdout",
     "output_type": "stream",
     "text": [
      "<class 'str'>\n",
      "<class 'int'>\n",
      "<class 'float'>\n",
      "<class 'bool'>\n",
      "<class 'NoneType'>\n"
     ]
    }
   ],
   "source": [
    "print(type(name))\n",
    "print(type(age))\n",
    "print(type(price))\n",
    "print(type(old))\n",
    "print(type(a))"
   ]
  },
  {
   "cell_type": "markdown",
   "metadata": {},
   "source": [
    "#print sum of two variables"
   ]
  },
  {
   "cell_type": "code",
   "execution_count": 5,
   "metadata": {},
   "outputs": [
    {
     "name": "stdout",
     "output_type": "stream",
     "text": [
      "Sum of Two Variables :  300\n"
     ]
    }
   ],
   "source": [
    "num1=100\n",
    "num2=200\n",
    "sum=num1+num2\n",
    "print(\"Sum of Two Variables : \",sum)"
   ]
  },
  {
   "cell_type": "markdown",
   "metadata": {},
   "source": [
    "# Types of Operators \n",
    "    # Arithmatic Operators : ( + , - , * , / , % , ** )"
   ]
  },
  {
   "cell_type": "code",
   "execution_count": 2,
   "metadata": {},
   "outputs": [
    {
     "name": "stdout",
     "output_type": "stream",
     "text": [
      "Sum of  500\n",
      "Subtract of  -300\n",
      "Multy of  40000\n",
      "Division of  0.25\n",
      "125\n"
     ]
    }
   ],
   "source": [
    "a1=100\n",
    "a2=400\n",
    "print(\"Sum of \",a1+a2)\n",
    "print(\"Subtract of \",a1-a2)\n",
    "print(\"Multy of \",a1*a2)\n",
    "print(\"Division of \",a1/a2)\n",
    "ab=5\n",
    "cd=3\n",
    "print(ab**cd)"
   ]
  },
  {
   "cell_type": "markdown",
   "metadata": {},
   "source": [
    "Relational Operators / Comparison Operators ( == , != , > , < , <= , >=)"
   ]
  },
  {
   "cell_type": "code",
   "execution_count": 7,
   "metadata": {},
   "outputs": [
    {
     "name": "stdout",
     "output_type": "stream",
     "text": [
      "False\n",
      "True\n",
      "False\n",
      "False\n",
      "True\n",
      "True\n"
     ]
    }
   ],
   "source": [
    "value1=200\n",
    "value2=300\n",
    "\n",
    "print(value1 == value2)\n",
    "print(value1 != value2)\n",
    "print(value1 > value2)\n",
    "print(value1 >= value2)\n",
    "print(value1 < value2)\n",
    "print(value1 <= value2)"
   ]
  },
  {
   "cell_type": "markdown",
   "metadata": {},
   "source": [
    "Assignment Operators ( = , += , -= , *= , /= , %= , **= )"
   ]
  },
  {
   "cell_type": "code",
   "execution_count": 16,
   "metadata": {},
   "outputs": [
    {
     "name": "stdout",
     "output_type": "stream",
     "text": [
      "100000\n"
     ]
    }
   ],
   "source": [
    "num=10\n",
    "# num+=10 # Addition\n",
    "# num-=10 # Subtraction\n",
    "# num*=3 # Multiplication\n",
    "# num /= 5 # Division\n",
    "num **= 5 # Power of num \n",
    "print(num)"
   ]
  },
  {
   "cell_type": "markdown",
   "metadata": {},
   "source": [
    "Logical Operators ( not , and , or )"
   ]
  },
  {
   "cell_type": "code",
   "execution_count": 29,
   "metadata": {},
   "outputs": [
    {
     "name": "stdout",
     "output_type": "stream",
     "text": [
      "True\n",
      "False\n",
      "and  operator : False\n",
      "or  operator : True\n"
     ]
    }
   ],
   "source": [
    "# not operator\n",
    "print(not False)\n",
    "print(not True)\n",
    "\n",
    "# and operator\n",
    "#  Become True When Both Value Are True\n",
    "val1=50\n",
    "val2=30\n",
    "print(\"and  operator :\", val1 == val2 and val2)\n",
    "\n",
    "# or operator\n",
    "print(\"or  operator :\", (val1 == val2) or (val1> val2))"
   ]
  },
  {
   "cell_type": "markdown",
   "metadata": {},
   "source": [
    "Type Conversion ( automatically)\n",
    "\n",
    "Type Casting ( manually )\n",
    "\n",
    "\n",
    "\n"
   ]
  },
  {
   "cell_type": "code",
   "execution_count": 34,
   "metadata": {},
   "outputs": [
    {
     "name": "stdout",
     "output_type": "stream",
     "text": [
      "6.25\n",
      "<class 'int'>\n",
      "6.25\n"
     ]
    }
   ],
   "source": [
    "a11=2\n",
    "b11=4.25\n",
    "\n",
    "# Type conversion \n",
    "sum1=a11+b11  # 2.0 + 4.25 = 6.25 \n",
    "print(sum1)\n",
    "\n",
    "# Type Casting\n",
    "a12=int(\"2\")\n",
    "b12=4.25\n",
    "print(type(a12))\n",
    "\n",
    "sum12=a11+b11  # 2.0 + 4.25 = 6.25 \n",
    "print(sum12)"
   ]
  },
  {
   "cell_type": "markdown",
   "metadata": {},
   "source": [
    "Input in Python\n",
    "\n",
    "input() statement is used to accept values (using keyboard) from user\n",
    "\n",
    "input() # result for input() is always a str\n",
    "\n",
    "int(input()) # int\n",
    "\n",
    "float(input()) # float\n"
   ]
  },
  {
   "cell_type": "code",
   "execution_count": 41,
   "metadata": {},
   "outputs": [
    {
     "name": "stdout",
     "output_type": "stream",
     "text": [
      "your age  852.0\n"
     ]
    },
    {
     "data": {
      "text/plain": [
       "float"
      ]
     },
     "execution_count": 41,
     "metadata": {},
     "output_type": "execute_result"
    }
   ],
   "source": [
    "# age =input(\"Enter your age : \")\n",
    "# age =int(input(\"Enter your age : \"))\n",
    "age =float(input(\"Enter your age : \"))\n",
    "print(\"your age \",age)\n",
    "type(age)"
   ]
  },
  {
   "cell_type": "code",
   "execution_count": null,
   "metadata": {},
   "outputs": [],
   "source": []
  }
 ],
 "metadata": {
  "kernelspec": {
   "display_name": "Python 3",
   "language": "python",
   "name": "python3"
  },
  "language_info": {
   "codemirror_mode": {
    "name": "ipython",
    "version": 3
   },
   "file_extension": ".py",
   "mimetype": "text/x-python",
   "name": "python",
   "nbconvert_exporter": "python",
   "pygments_lexer": "ipython3",
   "version": "3.12.4"
  }
 },
 "nbformat": 4,
 "nbformat_minor": 2
}
