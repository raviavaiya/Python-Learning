{
 "cells": [
  {
   "cell_type": "markdown",
   "metadata": {},
   "source": [
    "How to print statements in python......"
   ]
  },
  {
   "cell_type": "code",
   "execution_count": 2,
   "metadata": {},
   "outputs": [
    {
     "name": "stdout",
     "output_type": "stream",
     "text": [
      "Hello World\n",
      "This is my first python program....\n",
      "50\n",
      "25.99\n"
     ]
    }
   ],
   "source": [
    "print(\"Hello World\")\n",
    "print(\"This is my first python program....\")\n",
    "print(50)\n",
    "print(25.99)"
   ]
  },
  {
   "cell_type": "markdown",
   "metadata": {},
   "source": [
    " Variable :\n",
    " A Variable is a name given to a memory location in a program......"
   ]
  },
  {
   "cell_type": "code",
   "execution_count": 3,
   "metadata": {},
   "outputs": [
    {
     "name": "stdout",
     "output_type": "stream",
     "text": [
      "Ravi avaiya\n",
      "22\n",
      "99.99\n",
      "ravi avaiya\n",
      "my name is :  Ravi avaiya And my age is : 22\n"
     ]
    }
   ],
   "source": [
    "name=\"Ravi avaiya\"\n",
    "age=22\n",
    "price=99.99\n",
    "old=False\n",
    "a = None\n",
    "school='ravi avaiya'\n",
    "\n",
    "print(name)\n",
    "print(age)\n",
    "print(price)\n",
    "\n",
    "print(school)\n",
    "\n",
    "print(\"my name is : \",name,\"And my age is :\",age)\n"
   ]
  },
  {
   "cell_type": "markdown",
   "metadata": {},
   "source": [
    "How to know Datatypes of Variable"
   ]
  },
  {
   "cell_type": "code",
   "execution_count": 4,
   "metadata": {},
   "outputs": [
    {
     "name": "stdout",
     "output_type": "stream",
     "text": [
      "<class 'str'>\n",
      "<class 'int'>\n",
      "<class 'float'>\n",
      "<class 'bool'>\n",
      "<class 'NoneType'>\n"
     ]
    }
   ],
   "source": [
    "print(type(name))\n",
    "print(type(age))\n",
    "print(type(price))\n",
    "print(type(old))\n",
    "print(type(a))"
   ]
  },
  {
   "cell_type": "markdown",
   "metadata": {},
   "source": [
    "#print sum of two variables"
   ]
  },
  {
   "cell_type": "code",
   "execution_count": 5,
   "metadata": {},
   "outputs": [
    {
     "name": "stdout",
     "output_type": "stream",
     "text": [
      "Sum of Two Variables :  300\n"
     ]
    }
   ],
   "source": [
    "num1=100\n",
    "num2=200\n",
    "sum=num1+num2\n",
    "print(\"Sum of Two Variables : \",sum)"
   ]
  },
  {
   "cell_type": "markdown",
   "metadata": {},
   "source": [
    "# Types of Operators \n",
    "    # Arithmatic Operators : ( + , - , * , / , % , ** )"
   ]
  },
  {
   "cell_type": "code",
   "execution_count": 6,
   "metadata": {},
   "outputs": [
    {
     "name": "stdout",
     "output_type": "stream",
     "text": [
      "Sum of  500\n",
      "Subtract of  -300\n",
      "Multy of  40000\n",
      "Division of  0.25\n"
     ]
    }
   ],
   "source": [
    "a1=100\n",
    "a2=400\n",
    "print(\"Sum of \",a1+a2)\n",
    "print(\"Subtract of \",a1-a2)\n",
    "print(\"Multy of \",a1*a2)\n",
    "print(\"Division of \",a1/a2)"
   ]
  }
 ],
 "metadata": {
  "kernelspec": {
   "display_name": "Python 3",
   "language": "python",
   "name": "python3"
  },
  "language_info": {
   "codemirror_mode": {
    "name": "ipython",
    "version": 3
   },
   "file_extension": ".py",
   "mimetype": "text/x-python",
   "name": "python",
   "nbconvert_exporter": "python",
   "pygments_lexer": "ipython3",
   "version": "3.12.4"
  }
 },
 "nbformat": 4,
 "nbformat_minor": 2
}
